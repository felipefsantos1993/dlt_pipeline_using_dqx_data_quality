{
 "cells": [
  {
   "cell_type": "code",
   "execution_count": null,
   "metadata": {},
   "outputs": [],
   "source": [
    "pip install --upgrade pip"
   ]
  },
  {
   "cell_type": "code",
   "execution_count": null,
   "metadata": {},
   "outputs": [],
   "source": [
    "pip install databricks-labs-dqx"
   ]
  },
  {
   "cell_type": "code",
   "execution_count": null,
   "metadata": {},
   "outputs": [],
   "source": [
    "from pyspark.sql import SparkSession\n",
    "from pyspark.sql.functions import col, lit, when\n",
    "import random\n",
    "import json\n",
    "\n",
    "from databricks.labs.dqx.profiler.profiler import DQProfiler\n",
    "from databricks.labs.dqx.profiler.generator import DQGenerator\n",
    "from databricks.labs.dqx.engine import DQEngine\n",
    "from databricks.sdk import WorkspaceClient\n",
    "from databricks.labs.dqx.col_functions import *"
   ]
  },
  {
   "cell_type": "code",
   "execution_count": null,
   "metadata": {},
   "outputs": [],
   "source": [
    "names = ['Alice', 'Bob', 'Esther']\n",
    "genders = ['F', 'M', None]\n",
    "\n",
    "data = []\n",
    "\n",
    "for i in range(1, 91):\n",
    "  data.append((\n",
    "    i, random.choice(names) if random.random() > 0.1 else None,\n",
    "    random.randint(18, 60) if random.random() > 0.5 else None,\n",
    "    random.choice(genders)\n",
    "    ))\n",
    "\n",
    "for _ in range(10):\n",
    "  data.append(random.choice(data))\n",
    "\n",
    "spark = SparkSession.builder.appName('StartingDQX').getOrCreate()\n",
    "\n",
    "ws_client = WorkspaceClient()\n",
    "\n",
    "df = spark.createDataFrame(data, ['id', 'name', 'age', 'gender'])\n",
    "\n",
    "df = df.withColumn('id', when(col('id') % 15 == 0, None).otherwise(col('id')))"
   ]
  },
  {
   "cell_type": "code",
   "execution_count": null,
   "metadata": {},
   "outputs": [],
   "source": [
    "df.display()"
   ]
  },
  {
   "cell_type": "code",
   "execution_count": null,
   "metadata": {},
   "outputs": [],
   "source": [
    "def data_profile(data_input):\n",
    "  try:\n",
    "    profiler = DQProfiler(ws_client)\n",
    "    summary_stats, profiles = profiler.profile(data_input)\n",
    "    return summary_stats, profiles\n",
    "  except Exception as e:\n",
    "    raise"
   ]
  },
  {
   "cell_type": "code",
   "execution_count": null,
   "metadata": {},
   "outputs": [],
   "source": [
    "summary_stats, profiles = data_profile(df)"
   ]
  },
  {
   "cell_type": "code",
   "execution_count": null,
   "metadata": {},
   "outputs": [],
   "source": [
    "print('stats', json.dumps(summary_stats))"
   ]
  },
  {
   "cell_type": "code",
   "execution_count": null,
   "metadata": {},
   "outputs": [],
   "source": [
    "print('profile', profiles)"
   ]
  },
  {
   "cell_type": "code",
   "execution_count": null,
   "metadata": {},
   "outputs": [],
   "source": []
  },
  {
   "cell_type": "code",
   "execution_count": null,
   "metadata": {},
   "outputs": [],
   "source": [
    "import dlt\n",
    "from pyspark.sql.functions import col\n",
    "\n",
    "# 1. Tabela com os dados brutos\n",
    "@dlt.table(\n",
    "    comment=\"Dados brutos de usuários extraídos de um sistema externo\"\n",
    ")\n",
    "def raw_users():\n",
    "    return spark.read.format(\"json\").load(\"/mnt/raw_data/users/\")\n",
    "\n",
    "# 2. Tabela com regras de qualidade aplicadas\n",
    "@dlt.table(\n",
    "    comment=\"Dados de usuários limpos com validações de qualidade\"\n",
    ")\n",
    "@dlt.expect(\"id_not_null\", \"id IS NOT NULL\")\n",
    "@dlt.expect_or_drop(\"age_positive\", \"age > 0\")\n",
    "@dlt.expect_or_fail(\"email_format_valid\", \"email LIKE '%@%.%'\")\n",
    "def cleaned_users():\n",
    "    return dlt.read(\"raw_users\")\n",
    "\n",
    "# 3. Tabela de usuários ativos\n",
    "@dlt.table(\n",
    "    comment=\"Usuários ativos com idade entre 18 e 60\"\n",
    ")\n",
    "def active_users():\n",
    "    return dlt.read(\"cleaned_users\").filter((col(\"age\") >= 18) & (col(\"age\") <= 60))"
   ]
  }
 ],
 "metadata": {
  "kernelspec": {
   "display_name": "Python 3",
   "language": "python",
   "name": "python3"
  },
  "language_info": {
   "codemirror_mode": {
    "name": "ipython",
    "version": 3
   },
   "file_extension": ".py",
   "mimetype": "text/x-python",
   "name": "python",
   "nbconvert_exporter": "python",
   "pygments_lexer": "ipython3",
   "version": "3.12.8"
  }
 },
 "nbformat": 4,
 "nbformat_minor": 2
}
