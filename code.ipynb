{
 "cells": [
  {
   "cell_type": "code",
   "execution_count": 16,
   "metadata": {},
   "outputs": [],
   "source": [
    "from pyspark.sql import SparkSession"
   ]
  },
  {
   "cell_type": "code",
   "execution_count": 17,
   "metadata": {},
   "outputs": [],
   "source": [
    "spark = SparkSession.builder \\\n",
    "    .master('local[*]') \\\n",
    "    .appName(\"Iniciando com Spark\") \\\n",
    "    .config('spark.ui.port', '4050') \\\n",
    "    .getOrCreate()"
   ]
  },
  {
   "cell_type": "code",
   "execution_count": 11,
   "metadata": {},
   "outputs": [],
   "source": [
    "df = spark.read.csv('classmates.csv', sep=';', header=True)"
   ]
  },
  {
   "cell_type": "code",
   "execution_count": 14,
   "metadata": {},
   "outputs": [
    {
     "name": "stdout",
     "output_type": "stream",
     "text": [
      "+---+------+--------------------+\n",
      "| id|genero|                nome|\n",
      "+---+------+--------------------+\n",
      "|  1|male  |Martins          ...|\n",
      "|  2|male  |Carvalho         ...|\n",
      "|  3|female|Rocha            ...|\n",
      "|  4|male  |Cunha            ...|\n",
      "|  5|female|Costa            ...|\n",
      "|  6|male  |Cardoso          ...|\n",
      "|  7|male  |Almeida          ...|\n",
      "|  8|female|Oliveira         ...|\n",
      "|  9|male  |Castro           ...|\n",
      "| 10|male  |Fernandes        ...|\n",
      "| 11|female|Melo             ...|\n",
      "| 12|female|Martins          ...|\n",
      "| 13|female|Castro           ...|\n",
      "| 14|male  |Ribeiro          ...|\n",
      "| 15|female|Souza            ...|\n",
      "| 16|male  |Azevedo          ...|\n",
      "| 17|male  |Fernandes        ...|\n",
      "| 18|female|Oliveira         ...|\n",
      "| 19|female|Barros           ...|\n",
      "| 20|male  |Rodrigues        ...|\n",
      "+---+------+--------------------+\n",
      "only showing top 20 rows\n",
      "\n"
     ]
    }
   ],
   "source": [
    "df.show()"
   ]
  }
 ],
 "metadata": {
  "kernelspec": {
   "display_name": "Python 3",
   "language": "python",
   "name": "python3"
  },
  "language_info": {
   "codemirror_mode": {
    "name": "ipython",
    "version": 3
   },
   "file_extension": ".py",
   "mimetype": "text/x-python",
   "name": "python",
   "nbconvert_exporter": "python",
   "pygments_lexer": "ipython3",
   "version": "3.12.8"
  }
 },
 "nbformat": 4,
 "nbformat_minor": 2
}
